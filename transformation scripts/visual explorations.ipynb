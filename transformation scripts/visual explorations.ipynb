{
 "cells": [
  {
   "cell_type": "code",
   "execution_count": 1,
   "id": "f64b56eb-9993-4620-bc04-8d0202ea8dfa",
   "metadata": {},
   "outputs": [
    {
     "name": "stdout",
     "output_type": "stream",
     "text": [
      "C:/Users/josue/OneDrive/Documents/eDNA Challenges/HotelRevenueManagement/.venv\n"
     ]
    }
   ],
   "source": [
    "## How to know what environment I'm running this script\n",
    "%echo %VIRTUAL_ENV%"
   ]
  },
  {
   "cell_type": "code",
   "execution_count": 89,
   "id": "7aa3dbfd-2312-43f6-8938-c57d4ff0930c",
   "metadata": {},
   "outputs": [],
   "source": [
    "import numpy as np\n",
    "import pandas as pd\n",
    "import matplotlib.pyplot as plt\n",
    "import seaborn as sb\n",
    "\n",
    "%matplotlib inline\n"
   ]
  },
  {
   "cell_type": "code",
   "execution_count": 10,
   "id": "3a051354-0588-4966-b239-9095295db1ed",
   "metadata": {},
   "outputs": [],
   "source": [
    "agents = pd.read_csv('../data/agent_performance.csv', index_col='agent')"
   ]
  },
  {
   "cell_type": "code",
   "execution_count": 22,
   "id": "50d082cf-00f7-4473-8c83-484af7c6a887",
   "metadata": {},
   "outputs": [
    {
     "data": {
      "text/plain": [
       "Index(['Produced Income', 'Income %', 'Booking Effectiveness %',\n",
       "       'Booking Volume', 'Volume %', 'Earned Comissions'],\n",
       "      dtype='object')"
      ]
     },
     "execution_count": 22,
     "metadata": {},
     "output_type": "execute_result"
    }
   ],
   "source": [
    "agents.columns"
   ]
  },
  {
   "cell_type": "code",
   "execution_count": 24,
   "id": "da55389b-1cd7-4125-8b3c-555533050b6a",
   "metadata": {},
   "outputs": [
    {
     "data": {
      "text/plain": [
       "count    3.330000e+02\n",
       "mean     9.281731e+04\n",
       "std      5.984649e+05\n",
       "min      0.000000e+00\n",
       "25%      6.459400e+02\n",
       "50%      3.249750e+03\n",
       "75%      2.026059e+04\n",
       "max      9.069805e+06\n",
       "Name: Produced Income, dtype: float64"
      ]
     },
     "execution_count": 24,
     "metadata": {},
     "output_type": "execute_result"
    }
   ],
   "source": [
    "agents['Produced Income'].describe()"
   ]
  },
  {
   "cell_type": "code",
   "execution_count": 30,
   "id": "c0fc856a-7b49-4199-9ec6-8c1698a2b0d2",
   "metadata": {},
   "outputs": [
    {
     "name": "stdout",
     "output_type": "stream",
     "text": [
      " Median 3249.75 ,  Mean 92817.31\n",
      "Median is much lower than mean, so distribution is highly right skewed\n"
     ]
    }
   ],
   "source": [
    "print(f\" Median {agents['Produced Income'].median()} ,  Mean {agents['Produced Income'].mean().round(2)}\")\n",
    "print(\"Median is much lower than mean, so distribution is highly right skewed\")"
   ]
  },
  {
   "cell_type": "code",
   "execution_count": 31,
   "id": "5f5b46ad-a955-4881-9f05-c5de7d28e8a7",
   "metadata": {},
   "outputs": [
    {
     "data": {
      "text/plain": [
       "Produced Income            3.090817e+07\n",
       "Income %                   8.989000e+01\n",
       "Booking Effectiveness %    2.689555e+04\n",
       "Booking Volume             8.619300e+04\n",
       "Volume %                   9.998100e+01\n",
       "Earned Comissions          5.907904e+06\n",
       "dtype: float64"
      ]
     },
     "execution_count": 31,
     "metadata": {},
     "output_type": "execute_result"
    }
   ],
   "source": [
    "agents.sum()"
   ]
  },
  {
   "cell_type": "code",
   "execution_count": 25,
   "id": "7287fbc6-ce6d-43c5-b639-2a8f98eb1bb2",
   "metadata": {},
   "outputs": [
    {
     "data": {
      "text/plain": [
       "agent\n",
       "1       442457.82\n",
       "240    5278622.81\n",
       "142     154422.16\n",
       "103       3751.15\n",
       "6       391836.34\n",
       "          ...    \n",
       "461        645.94\n",
       "388        478.14\n",
       "480        145.98\n",
       "408        110.98\n",
       "444         93.74\n",
       "Name: Produced Income, Length: 333, dtype: float64"
      ]
     },
     "execution_count": 25,
     "metadata": {},
     "output_type": "execute_result"
    }
   ],
   "source": [
    "agents['Produced Income']"
   ]
  },
  {
   "cell_type": "code",
   "execution_count": 83,
   "id": "eac75f28-99c5-425f-8a77-17465ab27342",
   "metadata": {},
   "outputs": [
    {
     "name": "stdout",
     "output_type": "stream",
     "text": [
      "count    2.522444\n",
      "mean     4.967629\n",
      "std      5.777039\n",
      "min          -inf\n",
      "25%      2.810192\n",
      "50%      3.511850\n",
      "75%      4.306652\n",
      "max      6.957598\n",
      "Name: Produced Income, dtype: float64\n",
      "Min limit 1.6127838567197355\n",
      "Max limit 6.957597935023873\n",
      "segments\n",
      "[3.98107171e+01 5.01187234e+01 6.30957344e+01 7.94328235e+01\n",
      " 1.00000000e+02 1.25892541e+02 1.58489319e+02 1.99526231e+02\n",
      " 2.51188643e+02 3.16227766e+02 3.98107171e+02 5.01187234e+02\n",
      " 6.30957344e+02 7.94328235e+02 1.00000000e+03 1.25892541e+03\n",
      " 1.58489319e+03 1.99526231e+03 2.51188643e+03 3.16227766e+03\n",
      " 3.98107171e+03 5.01187234e+03 6.30957344e+03 7.94328235e+03\n",
      " 1.00000000e+04 1.25892541e+04 1.58489319e+04 1.99526231e+04\n",
      " 2.51188643e+04 3.16227766e+04 3.98107171e+04 5.01187234e+04\n",
      " 6.30957344e+04 7.94328235e+04 1.00000000e+05 1.25892541e+05\n",
      " 1.58489319e+05 1.99526231e+05 2.51188643e+05 3.16227766e+05\n",
      " 3.98107171e+05 5.01187234e+05 6.30957344e+05 7.94328235e+05\n",
      " 1.00000000e+06 1.25892541e+06 1.58489319e+06 1.99526231e+06\n",
      " 2.51188643e+06 3.16227766e+06 3.98107171e+06 5.01187234e+06\n",
      " 6.30957344e+06 7.94328235e+06 1.00000000e+07 1.25892541e+07]\n"
     ]
    },
    {
     "name": "stderr",
     "output_type": "stream",
     "text": [
      "C:\\Users\\josue\\OneDrive\\Documents\\eDNA Challenges\\HotelRevenueManagement\\.venv\\Lib\\site-packages\\pandas\\core\\arraylike.py:399: RuntimeWarning: divide by zero encountered in log10\n",
      "  result = getattr(ufunc, method)(*inputs, **kwargs)\n"
     ]
    }
   ],
   "source": [
    "# As data is heavily right skewed, then we need to generate exponential based segments instead of linear ones\n",
    "# First step is to verify range of minimum to maximum logvalues according to our data\n",
    "print(np.log10(agents['Produced Income'].describe()))\n",
    "# As the lowest non zero income is $41.04 dollars, then we are going to start our scale from there\n",
    "print(f\"Min limit {np.log10(41)}\")\n",
    "print(f\"Max limit {np.log10(agents['Produced Income'].max())}\")\n",
    "segments = 10 ** np.arange(1.60, 7.2, 0.1)\n",
    "print(\"segments\")\n",
    "print(segments)"
   ]
  },
  {
   "cell_type": "code",
   "execution_count": 98,
   "id": "5e880cca-cd06-4245-89ec-57bbef7016cb",
   "metadata": {},
   "outputs": [
    {
     "data": {
      "text/plain": [
       "([<matplotlib.axis.XTick at 0x1fb09fd6ab0>,\n",
       "  <matplotlib.axis.XTick at 0x1fb032fc650>,\n",
       "  <matplotlib.axis.XTick at 0x1fb096da8d0>,\n",
       "  <matplotlib.axis.XTick at 0x1fb0969f710>,\n",
       "  <matplotlib.axis.XTick at 0x1fb09b0e4b0>,\n",
       "  <matplotlib.axis.XTick at 0x1fb09b0d2b0>,\n",
       "  <matplotlib.axis.XTick at 0x1fb09b0cb90>,\n",
       "  <matplotlib.axis.XTick at 0x1fb09b0c950>,\n",
       "  <matplotlib.axis.XTick at 0x1fb09cf7a40>,\n",
       "  <matplotlib.axis.XTick at 0x1fb09cf6900>],\n",
       " [Text(100, 0, '100'),\n",
       "  Text(1000, 0, '1,000'),\n",
       "  Text(5000, 0, '5,000'),\n",
       "  Text(10000, 0, '10,000'),\n",
       "  Text(20000, 0, '20,000'),\n",
       "  Text(50000, 0, '50,000'),\n",
       "  Text(100000, 0, '100,000'),\n",
       "  Text(500000, 0, '500,000'),\n",
       "  Text(1000000, 0, '1,000,000'),\n",
       "  Text(10000000, 0, '10,000,000')])"
      ]
     },
     "execution_count": 98,
     "metadata": {},
     "output_type": "execute_result"
    },
    {
     "data": {
      "image/png": "[encoded data removed]",
      "text/plain": [
       "<Figure size 640x480 with 1 Axes>"
      ]
     },
     "metadata": {},
     "output_type": "display_data"
    }
   ],
   "source": [
    "plt.hist(data=agents, x='Produced Income', bins=segments)\n",
    "plt.title(\"Distribution of Produce Income\")\n",
    "# Let's add a more interpretable ticks since all values are expressed in exponential numbers\n",
    "ticks = [100, 1000, 5000, 10000, 20000, 50000, 100000, 500000, 1000000, 10000000]\n",
    "labels = ['{:,}'.format(tick) for tick in ticks]\n",
    "plt.xscale('log')\n",
    "plt.xticks(ticks, labels, rotation=30)"
   ]
  }
 ],
 "metadata": {
  "kernelspec": {
   "display_name": "Python 3 (ipykernel)",
   "language": "python",
   "name": "python3"
  },
  "language_info": {
   "codemirror_mode": {
    "name": "ipython",
    "version": 3
   },
   "file_extension": ".py",
   "mimetype": "text/x-python",
   "name": "python",
   "nbconvert_exporter": "python",
   "pygments_lexer": "ipython3",
   "version": "3.12.5"
  }
 },
 "nbformat": 4,
 "nbformat_minor": 5
}
