{
 "cells": [
  {
   "cell_type": "code",
   "execution_count": 1,
   "id": "a573a143-5b07-442d-8b17-9c4e60fa0117",
   "metadata": {},
   "outputs": [
    {
     "name": "stdout",
     "output_type": "stream",
     "text": [
      "C:\\Users\\josue\\OneDrive\\Documents\\eDNA Challenges\\HotelRevenueManagement\\.venv\n"
     ]
    }
   ],
   "source": [
    "import pandas as pd\n",
    "import sys\n",
    "from datetime import date\n",
    "from datetime import datetime\n",
    "from python_calamine import CalamineWorkbook\n",
    "pd.set_option('display.max_columns', 40)\n",
    "\n",
    "print(sys.prefix)"
   ]
  },
  {
   "cell_type": "markdown",
   "id": "431ea850-842b-489a-b699-60cb2cb2fb15",
   "metadata": {},
   "source": [
    "### Load Excel files"
   ]
  },
  {
   "cell_type": "code",
   "execution_count": 2,
   "id": "a2256ecf-0d8e-4105-8aed-d85a8e846471",
   "metadata": {},
   "outputs": [],
   "source": [
    "workbook_path = \"../data/Hotel Revenue Management raw.xlsx\""
   ]
  },
  {
   "cell_type": "code",
   "execution_count": 3,
   "id": "b4ea9478-8707-4ee3-a6fa-fcd7d808840a",
   "metadata": {},
   "outputs": [
    {
     "name": "stdout",
     "output_type": "stream",
     "text": [
      "Path ../data/Hotel Revenue Management raw.xlsx\n",
      "Found sheets ['2018', '2019', '2020', 'market_segment', 'meal_cost']\n",
      "Sheet metadata \n",
      "[SheetMetadata(name='2018', typ=SheetTypeEnum.WorkSheet, visible=SheetVisibleEnum.Visible), SheetMetadata(name='2019', typ=SheetTypeEnum.WorkSheet, visible=SheetVisibleEnum.Visible), SheetMetadata(name='2020', typ=SheetTypeEnum.WorkSheet, visible=SheetVisibleEnum.Visible), SheetMetadata(name='market_segment', typ=SheetTypeEnum.WorkSheet, visible=SheetVisibleEnum.Visible), SheetMetadata(name='meal_cost', typ=SheetTypeEnum.WorkSheet, visible=SheetVisibleEnum.Visible)]\n"
     ]
    }
   ],
   "source": [
    "# Verify original dataset\n",
    "workbook = CalamineWorkbook.from_path(workbook_path)\n",
    "print(\"Path \" + workbook.path)\n",
    "print(\"Found sheets \" + str(workbook.sheet_names))\n",
    "print(\"Sheet metadata \\n\" + str(workbook.sheets_metadata))"
   ]
  },
  {
   "cell_type": "code",
   "execution_count": 4,
   "id": "1b2e2b07-09c2-48e1-ac1e-21b570c1b144",
   "metadata": {},
   "outputs": [],
   "source": [
    "# Load sheets into individual data frames\n",
    "with pd.ExcelFile(workbook_path, engine='calamine') as file:\n",
    "    data2018 = pd.read_excel(file, sheet_name='2018')\n",
    "    data2019 = pd.read_excel(file, sheet_name='2019')\n",
    "    data2020 = pd.read_excel(file, sheet_name='2020')\n",
    "    market_data = pd.read_excel(file, sheet_name='market_segment')\n",
    "    meal_cost_dta = pd.read_excel(file, sheet_name='meal_cost')\n",
    "    file.close()"
   ]
  },
  {
   "cell_type": "markdown",
   "id": "e6f88a16-c2cb-41de-841c-950715fb98e7",
   "metadata": {},
   "source": [
    "### Verify structure and Unify datasets"
   ]
  },
  {
   "cell_type": "code",
   "execution_count": 5,
   "id": "9a9ce872-5846-4e53-ace1-a7fb72b57a02",
   "metadata": {},
   "outputs": [
    {
     "data": {
      "text/plain": [
       "((21815, 32), (79083, 32), (40687, 32))"
      ]
     },
     "execution_count": 5,
     "metadata": {},
     "output_type": "execute_result"
    }
   ],
   "source": [
    "data2018.shape , data2019.shape, data2020.shape"
   ]
  },
  {
   "cell_type": "code",
   "execution_count": 6,
   "id": "87450eb0-3386-4932-8284-4cb76aa3753f",
   "metadata": {},
   "outputs": [
    {
     "data": {
      "text/plain": [
       "array([ True,  True,  True,  True,  True,  True,  True,  True,  True,\n",
       "        True,  True,  True,  True,  True,  True,  True,  True,  True,\n",
       "        True,  True,  True,  True,  True,  True,  True,  True,  True,\n",
       "       False,  True,  True,  True,  True])"
      ]
     },
     "execution_count": 6,
     "metadata": {},
     "output_type": "execute_result"
    }
   ],
   "source": [
    "#Verify column names\n",
    "data2018.columns == data2019.columns"
   ]
  },
  {
   "cell_type": "code",
   "execution_count": 7,
   "id": "8d80a3eb-2b9a-444f-8b7b-5d4af9c09cf0",
   "metadata": {},
   "outputs": [
    {
     "name": "stdout",
     "output_type": "stream",
     "text": [
      "Column in 2018: AVG Daily Rate\n",
      "Column in 2019: adr\n"
     ]
    }
   ],
   "source": [
    "print(f\"Column in 2018: {data2018.columns[27]}\" )\n",
    "print(f\"Column in 2019: {data2019.columns[27]}\" )"
   ]
  },
  {
   "cell_type": "code",
   "execution_count": 8,
   "id": "cfdd03a5-8536-4bdc-817e-ce13f7b880cc",
   "metadata": {},
   "outputs": [
    {
     "data": {
      "text/plain": [
       "['hotel',\n",
       " 'is_canceled',\n",
       " 'lead_time',\n",
       " 'arrival_date_year',\n",
       " 'arrival_date_month',\n",
       " 'arrival_date_week_number',\n",
       " 'arrival_date_day_of_month',\n",
       " 'stays_in_weekend_nights',\n",
       " 'stays_in_week_nights',\n",
       " 'adults',\n",
       " 'children',\n",
       " 'babies',\n",
       " 'meal',\n",
       " 'country',\n",
       " 'market_segment',\n",
       " 'distribution_channel',\n",
       " 'is_repeated_guest',\n",
       " 'previous_cancellations',\n",
       " 'previous_bookings_not_canceled',\n",
       " 'reserved_room_type',\n",
       " 'assigned_room_type',\n",
       " 'booking_changes',\n",
       " 'deposit_type',\n",
       " 'agent',\n",
       " 'company',\n",
       " 'days_in_waiting_list',\n",
       " 'customer_type',\n",
       " 'AVG Daily Rate',\n",
       " 'required_car_parking_spaces',\n",
       " 'total_of_special_requests',\n",
       " 'reservation_status',\n",
       " 'reservation_status_date']"
      ]
     },
     "execution_count": 8,
     "metadata": {},
     "output_type": "execute_result"
    }
   ],
   "source": [
    "column_names = data2018.columns.to_list()\n",
    "column_names"
   ]
  },
  {
   "cell_type": "code",
   "execution_count": 9,
   "id": "7617398f-cae5-4718-bfee-30b0f50057de",
   "metadata": {},
   "outputs": [],
   "source": [
    "# use standard names for all dataframes\n",
    "data2018.rename(columns={'AVG Daily Rate' : 'avg_daily_rate'}, inplace=True)\n",
    "data2019.rename(columns={'adr': 'avg_daily_rate'}, inplace=True)\n",
    "data2020.rename(columns={'adr' : 'avg_daily_rate'}, inplace=True)"
   ]
  },
  {
   "cell_type": "code",
   "execution_count": 10,
   "id": "ce0a635a-f984-48fc-bbcb-87dbdf301b8c",
   "metadata": {},
   "outputs": [
    {
     "data": {
      "text/plain": [
       "141585"
      ]
     },
     "execution_count": 10,
     "metadata": {},
     "output_type": "execute_result"
    }
   ],
   "source": [
    "# Sum of all datasets is a total of rows\n",
    "data2018.shape[0] + data2019.shape[0] + data2020.shape[0]"
   ]
  },
  {
   "cell_type": "code",
   "execution_count": 11,
   "id": "0002233b-e6db-41d5-b603-bdc8b4e1f9d0",
   "metadata": {},
   "outputs": [],
   "source": [
    "# Union all datasets into a single master one, removing duplicates\n",
    "masterdataset = pd.concat([data2018, data2019, data2020]).drop_duplicates()"
   ]
  },
  {
   "cell_type": "code",
   "execution_count": 12,
   "id": "6d933341-e9e2-4fdc-9b04-c9cba057b5e0",
   "metadata": {},
   "outputs": [
    {
     "data": {
      "text/plain": [
       "(100732, 32)"
      ]
     },
     "execution_count": 12,
     "metadata": {},
     "output_type": "execute_result"
    }
   ],
   "source": [
    "masterdataset.shape"
   ]
  },
  {
   "cell_type": "code",
   "execution_count": 13,
   "id": "bd7cb937-f6f8-4408-ab23-1d32c92c0d47",
   "metadata": {},
   "outputs": [],
   "source": [
    "# Convert month names into numbers\n",
    "masterdataset['arrival_date_month_number'] = masterdataset.apply(lambda row: datetime.strptime(row['arrival_date_month'], '%B').month, axis=1)"
   ]
  },
  {
   "cell_type": "code",
   "execution_count": 14,
   "id": "90ff800a-a8db-4711-899b-ab2cad16ac1a",
   "metadata": {},
   "outputs": [],
   "source": [
    "#generate arrival_date from dseparated ate pieces \n",
    "masterdataset['arrival_date'] = masterdataset.apply(lambda row: datetime(row['arrival_date_year'], row['arrival_date_month_number'], row['arrival_date_day_of_month']), axis=1)"
   ]
  },
  {
   "cell_type": "code",
   "execution_count": 15,
   "id": "44e61ee2-36a8-4718-b810-063a856f6af8",
   "metadata": {},
   "outputs": [],
   "source": [
    "# Finally clean up dataset with date columns no longer useful\n",
    "masterdataset.drop(columns=['arrival_date_year', 'arrival_date_month', 'arrival_date_day_of_month', 'arrival_date_month_number'], inplace=True)"
   ]
  },
  {
   "cell_type": "markdown",
   "id": "7f8f5db4-abaf-427e-851b-2238df1e69d2",
   "metadata": {},
   "source": [
    "### Perform a quick Completeness test"
   ]
  },
  {
   "cell_type": "code",
   "execution_count": 16,
   "id": "1172a7cc-4e57-49cd-8277-4abd27623d49",
   "metadata": {},
   "outputs": [
    {
     "name": "stdout",
     "output_type": "stream",
     "text": [
      "<class 'pandas.core.frame.DataFrame'>\n",
      "Index: 100732 entries, 0 to 40686\n",
      "Data columns (total 30 columns):\n",
      " #   Column                          Non-Null Count   Dtype         \n",
      "---  ------                          --------------   -----         \n",
      " 0   hotel                           100732 non-null  object        \n",
      " 1   is_canceled                     100732 non-null  int64         \n",
      " 2   lead_time                       100732 non-null  int64         \n",
      " 3   arrival_date_week_number        100732 non-null  int64         \n",
      " 4   stays_in_weekend_nights         100732 non-null  int64         \n",
      " 5   stays_in_week_nights            100732 non-null  int64         \n",
      " 6   adults                          100732 non-null  int64         \n",
      " 7   children                        100724 non-null  float64       \n",
      " 8   babies                          100732 non-null  int64         \n",
      " 9   meal                            100732 non-null  object        \n",
      " 10  country                         100171 non-null  object        \n",
      " 11  market_segment                  100732 non-null  object        \n",
      " 12  distribution_channel            100732 non-null  object        \n",
      " 13  is_repeated_guest               100732 non-null  int64         \n",
      " 14  previous_cancellations          100732 non-null  int64         \n",
      " 15  previous_bookings_not_canceled  100732 non-null  int64         \n",
      " 16  reserved_room_type              100732 non-null  object        \n",
      " 17  assigned_room_type              100732 non-null  object        \n",
      " 18  booking_changes                 100732 non-null  int64         \n",
      " 19  deposit_type                    100732 non-null  object        \n",
      " 20  agent                           86193 non-null   float64       \n",
      " 21  company                         6161 non-null    float64       \n",
      " 22  days_in_waiting_list            100732 non-null  int64         \n",
      " 23  customer_type                   100732 non-null  object        \n",
      " 24  avg_daily_rate                  100732 non-null  float64       \n",
      " 25  required_car_parking_spaces     100732 non-null  int64         \n",
      " 26  total_of_special_requests       100732 non-null  int64         \n",
      " 27  reservation_status              100732 non-null  object        \n",
      " 28  reservation_status_date         100732 non-null  datetime64[ns]\n",
      " 29  arrival_date                    100732 non-null  datetime64[ns]\n",
      "dtypes: datetime64[ns](2), float64(4), int64(14), object(10)\n",
      "memory usage: 23.8+ MB\n"
     ]
    }
   ],
   "source": [
    "# Perform a quick completeness test\n",
    "\n",
    "# We can observe that most columns match with total of rows expected (100,732), except:\n",
    "# Children (100724)\n",
    "# Country (100171)\n",
    "# Agent (86193)\n",
    "# Company (6161)\n",
    "\n",
    "masterdataset.info()"
   ]
  },
  {
   "cell_type": "code",
   "execution_count": 17,
   "id": "3334fcb0-66e7-4617-9512-3979572bdeb1",
   "metadata": {},
   "outputs": [],
   "source": [
    "# We could ask why those values are missing\n",
    "\n",
    "# So our assumptions for now:\n",
    "# Missing Country info is not sensitive, this could be because guests simply didn't fill that info during reservation\n",
    "# Missing  Company makes sense for non-related work accomodations. \n",
    "# Missing Agent also makes sense since many reservations get through direct channel rather than an intermediary Booking Company\n",
    "# Missing children isn't harmful, so for those NAs, we assume they are zero. This way we can perform math operations over full column\n",
    "masterdataset.fillna(value= {'children' : 0}, inplace=True)"
   ]
  },
  {
   "cell_type": "code",
   "execution_count": 18,
   "id": "24b07f29-7dad-4644-b677-cfad7337a483",
   "metadata": {},
   "outputs": [
    {
     "data": {
      "text/plain": [
       "(Timestamp('2018-01-01 00:00:00'), Timestamp('2020-09-14 00:00:00'))"
      ]
     },
     "execution_count": 18,
     "metadata": {},
     "output_type": "execute_result"
    }
   ],
   "source": [
    "from_date = masterdataset.reservation_status_date.min()\n",
    "to_date = masterdataset.reservation_status_date.max()\n",
    "from_date, to_date"
   ]
  },
  {
   "cell_type": "code",
   "execution_count": 19,
   "id": "24c45fd9-7860-4348-84b6-06bc7ebfcaf8",
   "metadata": {},
   "outputs": [
    {
     "data": {
      "text/plain": [
       "987"
      ]
     },
     "execution_count": 19,
     "metadata": {},
     "output_type": "execute_result"
    }
   ],
   "source": [
    "days_between = (to_date - from_date).days\n",
    "days_between"
   ]
  },
  {
   "cell_type": "code",
   "execution_count": 20,
   "id": "bf0833d3-1efd-4566-95d2-a490b91797ac",
   "metadata": {},
   "outputs": [
    {
     "data": {
      "text/plain": [
       "923"
      ]
     },
     "execution_count": 20,
     "metadata": {},
     "output_type": "execute_result"
    }
   ],
   "source": [
    "unique_dates_dataset = len(masterdataset.reservation_status_date.unique())\n",
    "unique_dates_dataset"
   ]
  },
  {
   "cell_type": "code",
   "execution_count": 21,
   "id": "7fefd08b-d1f0-4295-870f-d1d30b9ce7a4",
   "metadata": {},
   "outputs": [
    {
     "data": {
      "text/plain": [
       "64"
      ]
     },
     "execution_count": 21,
     "metadata": {},
     "output_type": "execute_result"
    }
   ],
   "source": [
    "# Be aware, we have 64 missing days with reservations in our dataset. \n",
    "# It's hard to beleive that there were no reservations at all in such days.\n",
    "# Keep it in mind when doing exploratory analysis\n",
    "days_between - unique_dates_dataset"
   ]
  },
  {
   "cell_type": "code",
   "execution_count": 22,
   "id": "441ce9a7-e5fc-4186-88d9-67e15d153754",
   "metadata": {},
   "outputs": [],
   "source": [
    "date_range = pd.date_range(start=from_date, end=to_date, freq='D')\n",
    "masterdataset_dates = pd.DatetimeIndex(data=masterdataset.reservation_status_date.unique())"
   ]
  },
  {
   "cell_type": "code",
   "execution_count": 23,
   "id": "fcbb59d8-55ac-4a43-b93b-c34085e42779",
   "metadata": {},
   "outputs": [
    {
     "data": {
      "text/plain": [
       "[Timestamp('2018-01-03 00:00:00'),\n",
       " Timestamp('2018-01-04 00:00:00'),\n",
       " Timestamp('2018-01-05 00:00:00'),\n",
       " Timestamp('2018-01-06 00:00:00'),\n",
       " Timestamp('2018-01-07 00:00:00'),\n",
       " Timestamp('2018-01-08 00:00:00'),\n",
       " Timestamp('2018-01-09 00:00:00'),\n",
       " Timestamp('2018-01-10 00:00:00'),\n",
       " Timestamp('2018-01-11 00:00:00'),\n",
       " Timestamp('2018-01-12 00:00:00'),\n",
       " Timestamp('2018-01-13 00:00:00'),\n",
       " Timestamp('2018-01-14 00:00:00'),\n",
       " Timestamp('2018-01-15 00:00:00'),\n",
       " Timestamp('2018-01-16 00:00:00'),\n",
       " Timestamp('2018-01-17 00:00:00'),\n",
       " Timestamp('2018-01-19 00:00:00'),\n",
       " Timestamp('2018-01-23 00:00:00'),\n",
       " Timestamp('2018-01-24 00:00:00'),\n",
       " Timestamp('2018-01-25 00:00:00'),\n",
       " Timestamp('2018-01-26 00:00:00'),\n",
       " Timestamp('2018-01-27 00:00:00'),\n",
       " Timestamp('2018-01-31 00:00:00'),\n",
       " Timestamp('2018-02-01 00:00:00'),\n",
       " Timestamp('2018-02-03 00:00:00'),\n",
       " Timestamp('2018-02-04 00:00:00'),\n",
       " Timestamp('2018-02-07 00:00:00'),\n",
       " Timestamp('2018-02-08 00:00:00'),\n",
       " Timestamp('2018-02-13 00:00:00'),\n",
       " Timestamp('2018-02-14 00:00:00'),\n",
       " Timestamp('2018-02-15 00:00:00'),\n",
       " Timestamp('2018-02-16 00:00:00'),\n",
       " Timestamp('2018-02-18 00:00:00'),\n",
       " Timestamp('2018-02-21 00:00:00'),\n",
       " Timestamp('2018-02-22 00:00:00'),\n",
       " Timestamp('2018-02-28 00:00:00'),\n",
       " Timestamp('2018-03-01 00:00:00'),\n",
       " Timestamp('2018-03-02 00:00:00'),\n",
       " Timestamp('2018-03-07 00:00:00'),\n",
       " Timestamp('2018-03-08 00:00:00'),\n",
       " Timestamp('2018-03-14 00:00:00'),\n",
       " Timestamp('2018-03-15 00:00:00'),\n",
       " Timestamp('2018-03-16 00:00:00'),\n",
       " Timestamp('2018-03-19 00:00:00'),\n",
       " Timestamp('2018-03-20 00:00:00'),\n",
       " Timestamp('2018-03-21 00:00:00'),\n",
       " Timestamp('2018-03-22 00:00:00'),\n",
       " Timestamp('2018-03-26 00:00:00'),\n",
       " Timestamp('2018-03-27 00:00:00'),\n",
       " Timestamp('2018-04-01 00:00:00'),\n",
       " Timestamp('2018-04-09 00:00:00'),\n",
       " Timestamp('2018-04-12 00:00:00'),\n",
       " Timestamp('2018-04-19 00:00:00'),\n",
       " Timestamp('2018-04-26 00:00:00'),\n",
       " Timestamp('2018-05-02 00:00:00'),\n",
       " Timestamp('2018-05-03 00:00:00'),\n",
       " Timestamp('2018-05-10 00:00:00'),\n",
       " Timestamp('2018-05-17 00:00:00'),\n",
       " Timestamp('2018-05-24 00:00:00'),\n",
       " Timestamp('2018-05-31 00:00:00'),\n",
       " Timestamp('2018-06-07 00:00:00'),\n",
       " Timestamp('2018-06-21 00:00:00'),\n",
       " Timestamp('2018-06-28 00:00:00'),\n",
       " Timestamp('2020-02-29 00:00:00'),\n",
       " Timestamp('2020-09-11 00:00:00'),\n",
       " Timestamp('2020-09-13 00:00:00')]"
      ]
     },
     "execution_count": 23,
     "metadata": {},
     "output_type": "execute_result"
    }
   ],
   "source": [
    "# Missing days outcome by difference between 2 sets\n",
    "\n",
    "date_range_set = set(date_range)\n",
    "masterdataset_dates_set = set(masterdataset_dates)\n",
    "missing_days = list(sorted(date_range_set - masterdataset_dates_set))\n",
    "missing_days"
   ]
  },
  {
   "cell_type": "markdown",
   "id": "d894bc11-9cbe-4b49-a24f-a014a9f1ccb8",
   "metadata": {},
   "source": [
    "### Export clean dataset"
   ]
  },
  {
   "cell_type": "code",
   "execution_count": 24,
   "id": "f75ae2e1-23c6-41de-9e23-97e234987010",
   "metadata": {},
   "outputs": [],
   "source": [
    "masterdataset.to_csv(path_or_buf=\"../data/HotelMasterDataset.csv\", index_label=\"reservation_id\")"
   ]
  }
 ],
 "metadata": {
  "kernelspec": {
   "display_name": "Python 3 (ipykernel)",
   "language": "python",
   "name": "python3"
  },
  "language_info": {
   "codemirror_mode": {
    "name": "ipython",
    "version": 3
   },
   "file_extension": ".py",
   "mimetype": "text/x-python",
   "name": "python",
   "nbconvert_exporter": "python",
   "pygments_lexer": "ipython3",
   "version": "3.12.4"
  }
 },
 "nbformat": 4,
 "nbformat_minor": 5
}
